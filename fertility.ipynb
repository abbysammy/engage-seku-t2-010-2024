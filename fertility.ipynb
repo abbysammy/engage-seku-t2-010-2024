{
 "cells": [
  {
   "cell_type": "code",
   "execution_count": 2,
   "id": "3e111080-7ce9-41d1-9ba5-38ab802ba1b9",
   "metadata": {},
   "outputs": [],
   "source": [
    "import pandas as pd\n",
    "import numpy as np\n",
    "from sklearn import linear_model\n",
    "from sklearn.model_selection import train_test_split\n",
    "import matplotlib.pyplot as plt\n",
    "from sklearn.preprocessing import StandardScaler\n"
   ]
  },
  {
   "cell_type": "code",
   "execution_count": 4,
   "id": "a55a8a48-0ebb-4124-960e-7473e6eb7a44",
   "metadata": {},
   "outputs": [
    {
     "data": {
      "text/html": [
       "<div>\n",
       "<style scoped>\n",
       "    .dataframe tbody tr th:only-of-type {\n",
       "        vertical-align: middle;\n",
       "    }\n",
       "\n",
       "    .dataframe tbody tr th {\n",
       "        vertical-align: top;\n",
       "    }\n",
       "\n",
       "    .dataframe thead th {\n",
       "        text-align: right;\n",
       "    }\n",
       "</style>\n",
       "<table border=\"1\" class=\"dataframe\">\n",
       "  <thead>\n",
       "    <tr style=\"text-align: right;\">\n",
       "      <th></th>\n",
       "      <th>age</th>\n",
       "      <th>BMI</th>\n",
       "      <th>menstrual_cycle_irregularity</th>\n",
       "      <th>chronic_conditions</th>\n",
       "      <th>stress_level</th>\n",
       "      <th>fertility_rate</th>\n",
       "      <th>number_of_previous_pregnancies</th>\n",
       "      <th>previous_fertility_treatments</th>\n",
       "      <th>exercise_habits</th>\n",
       "      <th>history_of_miscarriages</th>\n",
       "    </tr>\n",
       "  </thead>\n",
       "  <tbody>\n",
       "    <tr>\n",
       "      <th>0</th>\n",
       "      <td>43</td>\n",
       "      <td>33.171975</td>\n",
       "      <td>1</td>\n",
       "      <td>0</td>\n",
       "      <td>3</td>\n",
       "      <td>0</td>\n",
       "      <td>3</td>\n",
       "      <td>1</td>\n",
       "      <td>0</td>\n",
       "      <td>2</td>\n",
       "    </tr>\n",
       "    <tr>\n",
       "      <th>1</th>\n",
       "      <td>36</td>\n",
       "      <td>19.336654</td>\n",
       "      <td>0</td>\n",
       "      <td>1</td>\n",
       "      <td>3</td>\n",
       "      <td>1</td>\n",
       "      <td>4</td>\n",
       "      <td>1</td>\n",
       "      <td>0</td>\n",
       "      <td>1</td>\n",
       "    </tr>\n",
       "    <tr>\n",
       "      <th>2</th>\n",
       "      <td>40</td>\n",
       "      <td>23.625551</td>\n",
       "      <td>1</td>\n",
       "      <td>1</td>\n",
       "      <td>5</td>\n",
       "      <td>2</td>\n",
       "      <td>1</td>\n",
       "      <td>0</td>\n",
       "      <td>0</td>\n",
       "      <td>1</td>\n",
       "    </tr>\n",
       "    <tr>\n",
       "      <th>3</th>\n",
       "      <td>28</td>\n",
       "      <td>22.220887</td>\n",
       "      <td>0</td>\n",
       "      <td>1</td>\n",
       "      <td>6</td>\n",
       "      <td>3</td>\n",
       "      <td>4</td>\n",
       "      <td>0</td>\n",
       "      <td>0</td>\n",
       "      <td>2</td>\n",
       "    </tr>\n",
       "    <tr>\n",
       "      <th>4</th>\n",
       "      <td>28</td>\n",
       "      <td>34.796237</td>\n",
       "      <td>1</td>\n",
       "      <td>0</td>\n",
       "      <td>6</td>\n",
       "      <td>1</td>\n",
       "      <td>3</td>\n",
       "      <td>0</td>\n",
       "      <td>1</td>\n",
       "      <td>2</td>\n",
       "    </tr>\n",
       "  </tbody>\n",
       "</table>\n",
       "</div>"
      ],
      "text/plain": [
       "   age        BMI  menstrual_cycle_irregularity  chronic_conditions  \\\n",
       "0   43  33.171975                             1                   0   \n",
       "1   36  19.336654                             0                   1   \n",
       "2   40  23.625551                             1                   1   \n",
       "3   28  22.220887                             0                   1   \n",
       "4   28  34.796237                             1                   0   \n",
       "\n",
       "   stress_level  fertility_rate  number_of_previous_pregnancies  \\\n",
       "0             3               0                               3   \n",
       "1             3               1                               4   \n",
       "2             5               2                               1   \n",
       "3             6               3                               4   \n",
       "4             6               1                               3   \n",
       "\n",
       "   previous_fertility_treatments  exercise_habits  history_of_miscarriages  \n",
       "0                              1                0                        2  \n",
       "1                              1                0                        1  \n",
       "2                              0                0                        1  \n",
       "3                              0                0                        2  \n",
       "4                              0                1                        2  "
      ]
     },
     "execution_count": 4,
     "metadata": {},
     "output_type": "execute_result"
    }
   ],
   "source": [
    "#reading the data\n",
    "data_multi=pd.read_csv(\"female_fertility_data.csv\")\n",
    "#displaying the first five rows\n",
    "data_multi.head()"
   ]
  },
  {
   "cell_type": "code",
   "execution_count": 5,
   "id": "076b7d37-28b5-4cb6-bcbf-08d15460ada2",
   "metadata": {},
   "outputs": [
    {
     "data": {
      "text/html": [
       "<div>\n",
       "<style scoped>\n",
       "    .dataframe tbody tr th:only-of-type {\n",
       "        vertical-align: middle;\n",
       "    }\n",
       "\n",
       "    .dataframe tbody tr th {\n",
       "        vertical-align: top;\n",
       "    }\n",
       "\n",
       "    .dataframe thead th {\n",
       "        text-align: right;\n",
       "    }\n",
       "</style>\n",
       "<table border=\"1\" class=\"dataframe\">\n",
       "  <thead>\n",
       "    <tr style=\"text-align: right;\">\n",
       "      <th></th>\n",
       "      <th>age</th>\n",
       "      <th>BMI</th>\n",
       "      <th>menstrual_cycle_irregularity</th>\n",
       "      <th>chronic_conditions</th>\n",
       "      <th>stress_level</th>\n",
       "      <th>fertility_rate</th>\n",
       "      <th>number_of_previous_pregnancies</th>\n",
       "      <th>previous_fertility_treatments</th>\n",
       "      <th>exercise_habits</th>\n",
       "      <th>history_of_miscarriages</th>\n",
       "    </tr>\n",
       "  </thead>\n",
       "  <tbody>\n",
       "    <tr>\n",
       "      <th>count</th>\n",
       "      <td>2914.000000</td>\n",
       "      <td>2914.000000</td>\n",
       "      <td>2914.000000</td>\n",
       "      <td>2914.000000</td>\n",
       "      <td>2914.000000</td>\n",
       "      <td>2914.000000</td>\n",
       "      <td>2914.000000</td>\n",
       "      <td>2914.000000</td>\n",
       "      <td>2914.000000</td>\n",
       "      <td>2914.000000</td>\n",
       "    </tr>\n",
       "    <tr>\n",
       "      <th>mean</th>\n",
       "      <td>31.271791</td>\n",
       "      <td>26.397136</td>\n",
       "      <td>0.496911</td>\n",
       "      <td>0.509609</td>\n",
       "      <td>5.484214</td>\n",
       "      <td>4.465683</td>\n",
       "      <td>2.020247</td>\n",
       "      <td>0.502745</td>\n",
       "      <td>0.502059</td>\n",
       "      <td>0.993823</td>\n",
       "    </tr>\n",
       "    <tr>\n",
       "      <th>std</th>\n",
       "      <td>7.853987</td>\n",
       "      <td>4.953697</td>\n",
       "      <td>0.500076</td>\n",
       "      <td>0.499993</td>\n",
       "      <td>2.884775</td>\n",
       "      <td>3.360637</td>\n",
       "      <td>1.396357</td>\n",
       "      <td>0.500078</td>\n",
       "      <td>0.500082</td>\n",
       "      <td>0.814368</td>\n",
       "    </tr>\n",
       "    <tr>\n",
       "      <th>min</th>\n",
       "      <td>18.000000</td>\n",
       "      <td>18.002682</td>\n",
       "      <td>0.000000</td>\n",
       "      <td>0.000000</td>\n",
       "      <td>1.000000</td>\n",
       "      <td>0.000000</td>\n",
       "      <td>0.000000</td>\n",
       "      <td>0.000000</td>\n",
       "      <td>0.000000</td>\n",
       "      <td>0.000000</td>\n",
       "    </tr>\n",
       "    <tr>\n",
       "      <th>25%</th>\n",
       "      <td>24.000000</td>\n",
       "      <td>22.059485</td>\n",
       "      <td>0.000000</td>\n",
       "      <td>0.000000</td>\n",
       "      <td>3.000000</td>\n",
       "      <td>1.000000</td>\n",
       "      <td>1.000000</td>\n",
       "      <td>0.000000</td>\n",
       "      <td>0.000000</td>\n",
       "      <td>0.000000</td>\n",
       "    </tr>\n",
       "    <tr>\n",
       "      <th>50%</th>\n",
       "      <td>31.000000</td>\n",
       "      <td>26.386065</td>\n",
       "      <td>0.000000</td>\n",
       "      <td>1.000000</td>\n",
       "      <td>5.000000</td>\n",
       "      <td>4.000000</td>\n",
       "      <td>2.000000</td>\n",
       "      <td>1.000000</td>\n",
       "      <td>1.000000</td>\n",
       "      <td>1.000000</td>\n",
       "    </tr>\n",
       "    <tr>\n",
       "      <th>75%</th>\n",
       "      <td>38.000000</td>\n",
       "      <td>30.760757</td>\n",
       "      <td>1.000000</td>\n",
       "      <td>1.000000</td>\n",
       "      <td>8.000000</td>\n",
       "      <td>8.000000</td>\n",
       "      <td>3.000000</td>\n",
       "      <td>1.000000</td>\n",
       "      <td>1.000000</td>\n",
       "      <td>2.000000</td>\n",
       "    </tr>\n",
       "    <tr>\n",
       "      <th>max</th>\n",
       "      <td>44.000000</td>\n",
       "      <td>34.998722</td>\n",
       "      <td>1.000000</td>\n",
       "      <td>1.000000</td>\n",
       "      <td>10.000000</td>\n",
       "      <td>13.000000</td>\n",
       "      <td>4.000000</td>\n",
       "      <td>1.000000</td>\n",
       "      <td>1.000000</td>\n",
       "      <td>2.000000</td>\n",
       "    </tr>\n",
       "  </tbody>\n",
       "</table>\n",
       "</div>"
      ],
      "text/plain": [
       "               age          BMI  menstrual_cycle_irregularity  \\\n",
       "count  2914.000000  2914.000000                   2914.000000   \n",
       "mean     31.271791    26.397136                      0.496911   \n",
       "std       7.853987     4.953697                      0.500076   \n",
       "min      18.000000    18.002682                      0.000000   \n",
       "25%      24.000000    22.059485                      0.000000   \n",
       "50%      31.000000    26.386065                      0.000000   \n",
       "75%      38.000000    30.760757                      1.000000   \n",
       "max      44.000000    34.998722                      1.000000   \n",
       "\n",
       "       chronic_conditions  stress_level  fertility_rate  \\\n",
       "count         2914.000000   2914.000000     2914.000000   \n",
       "mean             0.509609      5.484214        4.465683   \n",
       "std              0.499993      2.884775        3.360637   \n",
       "min              0.000000      1.000000        0.000000   \n",
       "25%              0.000000      3.000000        1.000000   \n",
       "50%              1.000000      5.000000        4.000000   \n",
       "75%              1.000000      8.000000        8.000000   \n",
       "max              1.000000     10.000000       13.000000   \n",
       "\n",
       "       number_of_previous_pregnancies  previous_fertility_treatments  \\\n",
       "count                     2914.000000                    2914.000000   \n",
       "mean                         2.020247                       0.502745   \n",
       "std                          1.396357                       0.500078   \n",
       "min                          0.000000                       0.000000   \n",
       "25%                          1.000000                       0.000000   \n",
       "50%                          2.000000                       1.000000   \n",
       "75%                          3.000000                       1.000000   \n",
       "max                          4.000000                       1.000000   \n",
       "\n",
       "       exercise_habits  history_of_miscarriages  \n",
       "count      2914.000000              2914.000000  \n",
       "mean          0.502059                 0.993823  \n",
       "std           0.500082                 0.814368  \n",
       "min           0.000000                 0.000000  \n",
       "25%           0.000000                 0.000000  \n",
       "50%           1.000000                 1.000000  \n",
       "75%           1.000000                 2.000000  \n",
       "max           1.000000                 2.000000  "
      ]
     },
     "execution_count": 5,
     "metadata": {},
     "output_type": "execute_result"
    }
   ],
   "source": [
    "data_multi.describe()"
   ]
  },
  {
   "cell_type": "code",
   "execution_count": 6,
   "id": "2c4967bb-8685-4472-8aa6-a3b96dbd17da",
   "metadata": {},
   "outputs": [
    {
     "data": {
      "text/plain": [
       "Index(['age', 'BMI', 'menstrual_cycle_irregularity', 'chronic_conditions',\n",
       "       'stress_level', 'fertility_rate', 'number_of_previous_pregnancies',\n",
       "       'previous_fertility_treatments', 'exercise_habits',\n",
       "       'history_of_miscarriages'],\n",
       "      dtype='object')"
      ]
     },
     "execution_count": 6,
     "metadata": {},
     "output_type": "execute_result"
    }
   ],
   "source": [
    "data_multi.columns"
   ]
  },
  {
   "cell_type": "code",
   "execution_count": 7,
   "id": "e87771ba-f1c3-4b85-bf88-9eb81d341a86",
   "metadata": {},
   "outputs": [
    {
     "data": {
      "text/plain": [
       "age                               0\n",
       "BMI                               0\n",
       "menstrual_cycle_irregularity      0\n",
       "chronic_conditions                0\n",
       "stress_level                      0\n",
       "fertility_rate                    0\n",
       "number_of_previous_pregnancies    0\n",
       "previous_fertility_treatments     0\n",
       "exercise_habits                   0\n",
       "history_of_miscarriages           0\n",
       "dtype: int64"
      ]
     },
     "execution_count": 7,
     "metadata": {},
     "output_type": "execute_result"
    }
   ],
   "source": [
    "data_multi.isnull().sum()"
   ]
  },
  {
   "cell_type": "code",
   "execution_count": 11,
   "id": "5ae0c165-0ab2-46cf-9529-2e34602ead47",
   "metadata": {},
   "outputs": [],
   "source": [
    "#remove any leading or trailing whitespace from the column names in the DataFrame, hence preventing errors\n",
    "data_multi.columns = data_multi.columns.str.strip()"
   ]
  },
  {
   "cell_type": "code",
   "execution_count": 12,
   "id": "d0611c28-d3f2-4841-a0cd-39854200249e",
   "metadata": {},
   "outputs": [
    {
     "name": "stdout",
     "output_type": "stream",
     "text": [
      "0       False\n",
      "1       False\n",
      "2       False\n",
      "3       False\n",
      "4       False\n",
      "        ...  \n",
      "2909    False\n",
      "2910    False\n",
      "2911    False\n",
      "2912    False\n",
      "2913    False\n",
      "Length: 2914, dtype: bool\n"
     ]
    }
   ],
   "source": [
    "from scipy import stats\n",
    "duplicates=data_multi.duplicated()\n",
    "print(duplicates)"
   ]
  },
  {
   "cell_type": "code",
   "execution_count": 14,
   "id": "45fdc7a0-a0cd-4a5a-9475-22301124ecde",
   "metadata": {},
   "outputs": [
    {
     "data": {
      "text/html": [
       "<div>\n",
       "<style scoped>\n",
       "    .dataframe tbody tr th:only-of-type {\n",
       "        vertical-align: middle;\n",
       "    }\n",
       "\n",
       "    .dataframe tbody tr th {\n",
       "        vertical-align: top;\n",
       "    }\n",
       "\n",
       "    .dataframe thead th {\n",
       "        text-align: right;\n",
       "    }\n",
       "</style>\n",
       "<table border=\"1\" class=\"dataframe\">\n",
       "  <thead>\n",
       "    <tr style=\"text-align: right;\">\n",
       "      <th></th>\n",
       "      <th>age</th>\n",
       "      <th>BMI</th>\n",
       "      <th>menstrual_cycle_irregularity</th>\n",
       "      <th>chronic_conditions</th>\n",
       "      <th>stress_level</th>\n",
       "      <th>fertility_rate</th>\n",
       "      <th>number_of_previous_pregnancies</th>\n",
       "      <th>previous_fertility_treatments</th>\n",
       "      <th>exercise_habits</th>\n",
       "      <th>history_of_miscarriages</th>\n",
       "    </tr>\n",
       "  </thead>\n",
       "  <tbody>\n",
       "    <tr>\n",
       "      <th>0</th>\n",
       "      <td>43</td>\n",
       "      <td>33.171975</td>\n",
       "      <td>1</td>\n",
       "      <td>0</td>\n",
       "      <td>3</td>\n",
       "      <td>0</td>\n",
       "      <td>3</td>\n",
       "      <td>1</td>\n",
       "      <td>0</td>\n",
       "      <td>2</td>\n",
       "    </tr>\n",
       "    <tr>\n",
       "      <th>1</th>\n",
       "      <td>36</td>\n",
       "      <td>19.336654</td>\n",
       "      <td>0</td>\n",
       "      <td>1</td>\n",
       "      <td>3</td>\n",
       "      <td>1</td>\n",
       "      <td>4</td>\n",
       "      <td>1</td>\n",
       "      <td>0</td>\n",
       "      <td>1</td>\n",
       "    </tr>\n",
       "    <tr>\n",
       "      <th>2</th>\n",
       "      <td>40</td>\n",
       "      <td>23.625551</td>\n",
       "      <td>1</td>\n",
       "      <td>1</td>\n",
       "      <td>5</td>\n",
       "      <td>2</td>\n",
       "      <td>1</td>\n",
       "      <td>0</td>\n",
       "      <td>0</td>\n",
       "      <td>1</td>\n",
       "    </tr>\n",
       "    <tr>\n",
       "      <th>3</th>\n",
       "      <td>28</td>\n",
       "      <td>22.220887</td>\n",
       "      <td>0</td>\n",
       "      <td>1</td>\n",
       "      <td>6</td>\n",
       "      <td>3</td>\n",
       "      <td>4</td>\n",
       "      <td>0</td>\n",
       "      <td>0</td>\n",
       "      <td>2</td>\n",
       "    </tr>\n",
       "    <tr>\n",
       "      <th>4</th>\n",
       "      <td>28</td>\n",
       "      <td>34.796237</td>\n",
       "      <td>1</td>\n",
       "      <td>0</td>\n",
       "      <td>6</td>\n",
       "      <td>1</td>\n",
       "      <td>3</td>\n",
       "      <td>0</td>\n",
       "      <td>1</td>\n",
       "      <td>2</td>\n",
       "    </tr>\n",
       "  </tbody>\n",
       "</table>\n",
       "</div>"
      ],
      "text/plain": [
       "   age        BMI  menstrual_cycle_irregularity  chronic_conditions  \\\n",
       "0   43  33.171975                             1                   0   \n",
       "1   36  19.336654                             0                   1   \n",
       "2   40  23.625551                             1                   1   \n",
       "3   28  22.220887                             0                   1   \n",
       "4   28  34.796237                             1                   0   \n",
       "\n",
       "   stress_level  fertility_rate  number_of_previous_pregnancies  \\\n",
       "0             3               0                               3   \n",
       "1             3               1                               4   \n",
       "2             5               2                               1   \n",
       "3             6               3                               4   \n",
       "4             6               1                               3   \n",
       "\n",
       "   previous_fertility_treatments  exercise_habits  history_of_miscarriages  \n",
       "0                              1                0                        2  \n",
       "1                              1                0                        1  \n",
       "2                              0                0                        1  \n",
       "3                              0                0                        2  \n",
       "4                              0                1                        2  "
      ]
     },
     "execution_count": 14,
     "metadata": {},
     "output_type": "execute_result"
    }
   ],
   "source": [
    "data_above_18=data_multi[data_multi['age']>18]\n",
    "data_above_18.head()"
   ]
  },
  {
   "cell_type": "code",
   "execution_count": 15,
   "id": "d579ca9d-123d-4960-8710-39e76b6a311a",
   "metadata": {},
   "outputs": [
    {
     "data": {
      "text/plain": [
       "(2914, 10)"
      ]
     },
     "execution_count": 15,
     "metadata": {},
     "output_type": "execute_result"
    }
   ],
   "source": [
    "data_multi.shape"
   ]
  },
  {
   "cell_type": "code",
   "execution_count": 16,
   "id": "138d92bc-c4b7-4842-b00f-9a70158cc0ed",
   "metadata": {},
   "outputs": [
    {
     "data": {
      "text/plain": [
       "age                               0\n",
       "BMI                               0\n",
       "menstrual_cycle_irregularity      0\n",
       "chronic_conditions                0\n",
       "stress_level                      0\n",
       "fertility_rate                    0\n",
       "number_of_previous_pregnancies    0\n",
       "previous_fertility_treatments     0\n",
       "exercise_habits                   0\n",
       "history_of_miscarriages           0\n",
       "dtype: int64"
      ]
     },
     "execution_count": 16,
     "metadata": {},
     "output_type": "execute_result"
    }
   ],
   "source": [
    "data_multi.isnull().sum()"
   ]
  },
  {
   "cell_type": "code",
   "execution_count": 17,
   "id": "c048eb48-7788-4ea6-b458-3bdacc8b0ed5",
   "metadata": {},
   "outputs": [
    {
     "name": "stdout",
     "output_type": "stream",
     "text": [
      "<class 'pandas.core.frame.DataFrame'>\n",
      "RangeIndex: 2914 entries, 0 to 2913\n",
      "Data columns (total 10 columns):\n",
      " #   Column                          Non-Null Count  Dtype  \n",
      "---  ------                          --------------  -----  \n",
      " 0   age                             2914 non-null   int64  \n",
      " 1   BMI                             2914 non-null   float64\n",
      " 2   menstrual_cycle_irregularity    2914 non-null   int64  \n",
      " 3   chronic_conditions              2914 non-null   int64  \n",
      " 4   stress_level                    2914 non-null   int64  \n",
      " 5   fertility_rate                  2914 non-null   int64  \n",
      " 6   number_of_previous_pregnancies  2914 non-null   int64  \n",
      " 7   previous_fertility_treatments   2914 non-null   int64  \n",
      " 8   exercise_habits                 2914 non-null   int64  \n",
      " 9   history_of_miscarriages         2914 non-null   int64  \n",
      "dtypes: float64(1), int64(9)\n",
      "memory usage: 227.8 KB\n"
     ]
    }
   ],
   "source": [
    "data_multi.info()"
   ]
  },
  {
   "cell_type": "code",
   "execution_count": 18,
   "id": "9eee72f2-402b-46a0-a777-bfbdab16e94c",
   "metadata": {},
   "outputs": [
    {
     "data": {
      "text/html": [
       "<div>\n",
       "<style scoped>\n",
       "    .dataframe tbody tr th:only-of-type {\n",
       "        vertical-align: middle;\n",
       "    }\n",
       "\n",
       "    .dataframe tbody tr th {\n",
       "        vertical-align: top;\n",
       "    }\n",
       "\n",
       "    .dataframe thead th {\n",
       "        text-align: right;\n",
       "    }\n",
       "</style>\n",
       "<table border=\"1\" class=\"dataframe\">\n",
       "  <thead>\n",
       "    <tr style=\"text-align: right;\">\n",
       "      <th></th>\n",
       "      <th>age</th>\n",
       "      <th>BMI</th>\n",
       "      <th>menstrual_cycle_irregularity</th>\n",
       "      <th>chronic_conditions</th>\n",
       "      <th>stress_level</th>\n",
       "      <th>fertility_rate</th>\n",
       "      <th>number_of_previous_pregnancies</th>\n",
       "      <th>previous_fertility_treatments</th>\n",
       "      <th>exercise_habits</th>\n",
       "      <th>history_of_miscarriages</th>\n",
       "    </tr>\n",
       "  </thead>\n",
       "  <tbody>\n",
       "    <tr>\n",
       "      <th>0</th>\n",
       "      <td>43</td>\n",
       "      <td>33.171975</td>\n",
       "      <td>1</td>\n",
       "      <td>0</td>\n",
       "      <td>3</td>\n",
       "      <td>0</td>\n",
       "      <td>3</td>\n",
       "      <td>1</td>\n",
       "      <td>0</td>\n",
       "      <td>2</td>\n",
       "    </tr>\n",
       "    <tr>\n",
       "      <th>1</th>\n",
       "      <td>36</td>\n",
       "      <td>19.336654</td>\n",
       "      <td>0</td>\n",
       "      <td>1</td>\n",
       "      <td>3</td>\n",
       "      <td>1</td>\n",
       "      <td>4</td>\n",
       "      <td>1</td>\n",
       "      <td>0</td>\n",
       "      <td>1</td>\n",
       "    </tr>\n",
       "    <tr>\n",
       "      <th>2</th>\n",
       "      <td>40</td>\n",
       "      <td>23.625551</td>\n",
       "      <td>1</td>\n",
       "      <td>1</td>\n",
       "      <td>5</td>\n",
       "      <td>2</td>\n",
       "      <td>1</td>\n",
       "      <td>0</td>\n",
       "      <td>0</td>\n",
       "      <td>1</td>\n",
       "    </tr>\n",
       "    <tr>\n",
       "      <th>3</th>\n",
       "      <td>28</td>\n",
       "      <td>22.220887</td>\n",
       "      <td>0</td>\n",
       "      <td>1</td>\n",
       "      <td>6</td>\n",
       "      <td>3</td>\n",
       "      <td>4</td>\n",
       "      <td>0</td>\n",
       "      <td>0</td>\n",
       "      <td>2</td>\n",
       "    </tr>\n",
       "    <tr>\n",
       "      <th>4</th>\n",
       "      <td>28</td>\n",
       "      <td>34.796237</td>\n",
       "      <td>1</td>\n",
       "      <td>0</td>\n",
       "      <td>6</td>\n",
       "      <td>1</td>\n",
       "      <td>3</td>\n",
       "      <td>0</td>\n",
       "      <td>1</td>\n",
       "      <td>2</td>\n",
       "    </tr>\n",
       "  </tbody>\n",
       "</table>\n",
       "</div>"
      ],
      "text/plain": [
       "   age        BMI  menstrual_cycle_irregularity  chronic_conditions  \\\n",
       "0   43  33.171975                             1                   0   \n",
       "1   36  19.336654                             0                   1   \n",
       "2   40  23.625551                             1                   1   \n",
       "3   28  22.220887                             0                   1   \n",
       "4   28  34.796237                             1                   0   \n",
       "\n",
       "   stress_level  fertility_rate  number_of_previous_pregnancies  \\\n",
       "0             3               0                               3   \n",
       "1             3               1                               4   \n",
       "2             5               2                               1   \n",
       "3             6               3                               4   \n",
       "4             6               1                               3   \n",
       "\n",
       "   previous_fertility_treatments  exercise_habits  history_of_miscarriages  \n",
       "0                              1                0                        2  \n",
       "1                              1                0                        1  \n",
       "2                              0                0                        1  \n",
       "3                              0                0                        2  \n",
       "4                              0                1                        2  "
      ]
     },
     "execution_count": 18,
     "metadata": {},
     "output_type": "execute_result"
    }
   ],
   "source": [
    "sorted_data=data_multi.sort_values(by='fertility_rate',ascending=False)\n",
    "data_multi.head()"
   ]
  },
  {
   "cell_type": "code",
   "execution_count": 19,
   "id": "9626f62b-3ffa-4c90-a648-af292615d057",
   "metadata": {},
   "outputs": [
    {
     "data": {
      "text/html": [
       "<div>\n",
       "<style scoped>\n",
       "    .dataframe tbody tr th:only-of-type {\n",
       "        vertical-align: middle;\n",
       "    }\n",
       "\n",
       "    .dataframe tbody tr th {\n",
       "        vertical-align: top;\n",
       "    }\n",
       "\n",
       "    .dataframe thead th {\n",
       "        text-align: right;\n",
       "    }\n",
       "</style>\n",
       "<table border=\"1\" class=\"dataframe\">\n",
       "  <thead>\n",
       "    <tr style=\"text-align: right;\">\n",
       "      <th></th>\n",
       "      <th>age</th>\n",
       "      <th>BMI</th>\n",
       "      <th>menstrual_cycle_irregularity</th>\n",
       "      <th>chronic_conditions</th>\n",
       "      <th>stress_level</th>\n",
       "      <th>fertility_rate</th>\n",
       "      <th>number_of_previous_pregnancies</th>\n",
       "      <th>previous_fertility_treatments</th>\n",
       "      <th>exercise_habits</th>\n",
       "      <th>history_of_miscarriages</th>\n",
       "    </tr>\n",
       "  </thead>\n",
       "  <tbody>\n",
       "    <tr>\n",
       "      <th>0</th>\n",
       "      <td>43</td>\n",
       "      <td>33.171975</td>\n",
       "      <td>1</td>\n",
       "      <td>0</td>\n",
       "      <td>3</td>\n",
       "      <td>0</td>\n",
       "      <td>3</td>\n",
       "      <td>1</td>\n",
       "      <td>0</td>\n",
       "      <td>2</td>\n",
       "    </tr>\n",
       "    <tr>\n",
       "      <th>1</th>\n",
       "      <td>36</td>\n",
       "      <td>19.336654</td>\n",
       "      <td>0</td>\n",
       "      <td>1</td>\n",
       "      <td>3</td>\n",
       "      <td>1</td>\n",
       "      <td>4</td>\n",
       "      <td>1</td>\n",
       "      <td>0</td>\n",
       "      <td>1</td>\n",
       "    </tr>\n",
       "    <tr>\n",
       "      <th>2</th>\n",
       "      <td>40</td>\n",
       "      <td>23.625551</td>\n",
       "      <td>1</td>\n",
       "      <td>1</td>\n",
       "      <td>5</td>\n",
       "      <td>2</td>\n",
       "      <td>1</td>\n",
       "      <td>0</td>\n",
       "      <td>0</td>\n",
       "      <td>1</td>\n",
       "    </tr>\n",
       "    <tr>\n",
       "      <th>3</th>\n",
       "      <td>28</td>\n",
       "      <td>22.220887</td>\n",
       "      <td>0</td>\n",
       "      <td>1</td>\n",
       "      <td>6</td>\n",
       "      <td>3</td>\n",
       "      <td>4</td>\n",
       "      <td>0</td>\n",
       "      <td>0</td>\n",
       "      <td>2</td>\n",
       "    </tr>\n",
       "    <tr>\n",
       "      <th>4</th>\n",
       "      <td>28</td>\n",
       "      <td>34.796237</td>\n",
       "      <td>1</td>\n",
       "      <td>0</td>\n",
       "      <td>6</td>\n",
       "      <td>1</td>\n",
       "      <td>3</td>\n",
       "      <td>0</td>\n",
       "      <td>1</td>\n",
       "      <td>2</td>\n",
       "    </tr>\n",
       "  </tbody>\n",
       "</table>\n",
       "</div>"
      ],
      "text/plain": [
       "   age        BMI  menstrual_cycle_irregularity  chronic_conditions  \\\n",
       "0   43  33.171975                             1                   0   \n",
       "1   36  19.336654                             0                   1   \n",
       "2   40  23.625551                             1                   1   \n",
       "3   28  22.220887                             0                   1   \n",
       "4   28  34.796237                             1                   0   \n",
       "\n",
       "   stress_level  fertility_rate  number_of_previous_pregnancies  \\\n",
       "0             3               0                               3   \n",
       "1             3               1                               4   \n",
       "2             5               2                               1   \n",
       "3             6               3                               4   \n",
       "4             6               1                               3   \n",
       "\n",
       "   previous_fertility_treatments  exercise_habits  history_of_miscarriages  \n",
       "0                              1                0                        2  \n",
       "1                              1                0                        1  \n",
       "2                              0                0                        1  \n",
       "3                              0                0                        2  \n",
       "4                              0                1                        2  "
      ]
     },
     "execution_count": 19,
     "metadata": {},
     "output_type": "execute_result"
    }
   ],
   "source": [
    "new_data=data_multi[[\"age\",\"BMI\",\"menstrual_cycle_irregularity\",\"chronic_conditions\",\"stress_level\",\"fertility_rate\",\"number_of_previous_pregnancies\",\"previous_fertility_treatments\",\"exercise_habits\",\"history_of_miscarriages\"]]\n",
    "new_data.head()"
   ]
  },
  {
   "cell_type": "code",
   "execution_count": 20,
   "id": "9e7742ac-1354-4593-9a45-b9d8a1b4f87e",
   "metadata": {},
   "outputs": [],
   "source": [
    "new_data.dropna(inplace=True)"
   ]
  },
  {
   "cell_type": "code",
   "execution_count": 21,
   "id": "0762001d-2b86-44bd-ba6a-9f0a743475d4",
   "metadata": {},
   "outputs": [
    {
     "name": "stdout",
     "output_type": "stream",
     "text": [
      "<class 'pandas.core.frame.DataFrame'>\n",
      "RangeIndex: 2914 entries, 0 to 2913\n",
      "Data columns (total 10 columns):\n",
      " #   Column                          Non-Null Count  Dtype  \n",
      "---  ------                          --------------  -----  \n",
      " 0   age                             2914 non-null   int64  \n",
      " 1   BMI                             2914 non-null   float64\n",
      " 2   menstrual_cycle_irregularity    2914 non-null   int64  \n",
      " 3   chronic_conditions              2914 non-null   int64  \n",
      " 4   stress_level                    2914 non-null   int64  \n",
      " 5   fertility_rate                  2914 non-null   int64  \n",
      " 6   number_of_previous_pregnancies  2914 non-null   int64  \n",
      " 7   previous_fertility_treatments   2914 non-null   int64  \n",
      " 8   exercise_habits                 2914 non-null   int64  \n",
      " 9   history_of_miscarriages         2914 non-null   int64  \n",
      "dtypes: float64(1), int64(9)\n",
      "memory usage: 227.8 KB\n"
     ]
    }
   ],
   "source": [
    "new_data[\"fertility_rate\"]=pd.to_numeric(new_data[\"fertility_rate\"],errors='coerce')\n",
    "df_cleaned=new_data.dropna(subset=\"fertility_rate\")\n",
    "new_data.info()"
   ]
  },
  {
   "cell_type": "code",
   "execution_count": 22,
   "id": "ee256919-579e-4285-b997-cd9725b6a5b5",
   "metadata": {},
   "outputs": [],
   "source": [
    "from sklearn.preprocessing import StandardScaler\n",
    "x=df_cleaned.drop('fertility_rate',axis=1)\n",
    "y=df_cleaned['fertility_rate']\n",
    "scaler=StandardScaler()\n",
    "x_scaled=scaled=scaler.fit_transform(x)"
   ]
  },
  {
   "cell_type": "code",
   "execution_count": 23,
   "id": "3405474b-1563-4ea9-a014-264c675389bc",
   "metadata": {},
   "outputs": [
    {
     "name": "stdout",
     "output_type": "stream",
     "text": [
      "<class 'pandas.core.frame.DataFrame'>\n",
      "RangeIndex: 2914 entries, 0 to 2913\n",
      "Data columns (total 10 columns):\n",
      " #   Column                          Non-Null Count  Dtype  \n",
      "---  ------                          --------------  -----  \n",
      " 0   age                             2914 non-null   int64  \n",
      " 1   BMI                             2914 non-null   float64\n",
      " 2   menstrual_cycle_irregularity    2914 non-null   int64  \n",
      " 3   chronic_conditions              2914 non-null   int64  \n",
      " 4   stress_level                    2914 non-null   int64  \n",
      " 5   fertility_rate                  2914 non-null   int64  \n",
      " 6   number_of_previous_pregnancies  2914 non-null   int64  \n",
      " 7   previous_fertility_treatments   2914 non-null   int64  \n",
      " 8   exercise_habits                 2914 non-null   int64  \n",
      " 9   history_of_miscarriages         2914 non-null   int64  \n",
      "dtypes: float64(1), int64(9)\n",
      "memory usage: 227.8 KB\n"
     ]
    }
   ],
   "source": [
    "df_cleaned.info()"
   ]
  },
  {
   "cell_type": "code",
   "execution_count": 24,
   "id": "919dca15-bdef-44e4-8d96-cc00e384fb37",
   "metadata": {},
   "outputs": [
    {
     "data": {
      "image/png": "[encoded data removed]",
      "text/plain": [
       "<Figure size 800x400 with 1 Axes>"
      ]
     },
     "metadata": {},
     "output_type": "display_data"
    }
   ],
   "source": [
    "# Child's weight\n",
    "\n",
    "from matplotlib import pyplot as plt\n",
    "df_cleaned[\"fertility_rate\"].plot(kind=\"line\", figsize=(8, 4), title=\"history_of_miscarriages\")\n",
    "plt.gca().spines[['top', 'right']].set_visible(False)"
   ]
  },
  {
   "cell_type": "code",
   "execution_count": 27,
   "id": "8d06a3b3-4e53-47bd-b179-f23c8202ddfa",
   "metadata": {},
   "outputs": [
    {
     "data": {
      "image/png": "[encoded data removed]",
      "text/plain": [
       "<Figure size 800x600 with 1 Axes>"
      ]
     },
     "metadata": {},
     "output_type": "display_data"
    }
   ],
   "source": [
    "plt.figure(figsize=(8,6))\n",
    "plt.hist(data_multi['age'],bins=10,color='skyblue',edgecolor='black')\n",
    "plt.title('distribution of age')\n",
    "plt.xlabel('age')\n",
    "plt.ylabel('fertility_rate')\n",
    "plt.show()"
   ]
  },
  {
   "cell_type": "code",
   "execution_count": 59,
   "id": "54196558-647d-4b66-b42f-cf9678abb31f",
   "metadata": {},
   "outputs": [
    {
     "data": {
      "image/png": "[encoded data removed]",
      "text/plain": [
       "<Figure size 640x480 with 1 Axes>"
      ]
     },
     "metadata": {},
     "output_type": "display_data"
    }
   ],
   "source": [
    "import numpy as np\n",
    "coefficients=model.coef_\n",
    "plt.plot(np.arange(len(coefficients)),coefficients)\n",
    "plt.title('fertility rate')\n",
    "plt.xlabel('number_of_previous_pregnancies')\n",
    "plt.ylabel('fertility_rate')\n",
    "plt.show()"
   ]
  },
  {
   "cell_type": "code",
   "execution_count": 31,
   "id": "50658df2-ed66-4e8e-9435-bba3a642da82",
   "metadata": {},
   "outputs": [
    {
     "data": {
      "image/png": "[encoded data removed]",
      "text/plain": [
       "<Figure size 640x480 with 1 Axes>"
      ]
     },
     "metadata": {},
     "output_type": "display_data"
    }
   ],
   "source": [
    "# Scatter plot\n",
    "df_cleaned.plot(kind='scatter', x=\"fertility_rate\", y=\"history_of_miscarriages\", s=32, alpha=.8)\n",
    "plt.gca().spines[['top', 'right',]].set_visible(False)"
   ]
  },
  {
   "cell_type": "code",
   "execution_count": 32,
   "id": "ad404b19-fb15-47c4-8b22-d40025bbb9ce",
   "metadata": {},
   "outputs": [
    {
     "data": {
      "image/png": "[encoded data removed]",
      "text/plain": [
       "<Figure size 1200x400 with 2 Axes>"
      ]
     },
     "metadata": {},
     "output_type": "display_data"
    }
   ],
   "source": [
    "import pandas as pd\n",
    "import matplotlib.pyplot as plt\n",
    "import seaborn as sns\n",
    "sns.set_style(\"whitegrid\")\n",
    "df=pd.read_csv(\"female_fertility_data.csv\")\n",
    "df.head()\n",
    "g=sns.catplot(\n",
    "    data=df,\n",
    "    x=\"fertility_rate\",\n",
    "    col=\"menstrual_cycle_irregularity\",\n",
    "    kind=\"count\",\n",
    "    height=4,\n",
    "    aspect=1,\n",
    "    col_wrap=3\n",
    ")\n",
    "g.set_axis_labels(\"stress_level\",\"count\")\n",
    "g.set_titles(\"fertility rate:{col_name}\")\n",
    "g.tight_layout()\n",
    "plt.show()"
   ]
  },
  {
   "cell_type": "code",
   "execution_count": 33,
   "id": "8d933afc-194d-41a1-bc82-8f4b0f132bae",
   "metadata": {},
   "outputs": [
    {
     "data": {
      "text/plain": [
       "(2914, 10)"
      ]
     },
     "execution_count": 33,
     "metadata": {},
     "output_type": "execute_result"
    }
   ],
   "source": [
    "df_cleaned.shape"
   ]
  },
  {
   "cell_type": "code",
   "execution_count": 34,
   "id": "801a2d2d-d620-4b53-8086-a84e531abc66",
   "metadata": {},
   "outputs": [
    {
     "data": {
      "text/plain": [
       "array([1, 0], dtype=int64)"
      ]
     },
     "execution_count": 34,
     "metadata": {},
     "output_type": "execute_result"
    }
   ],
   "source": [
    "df_cleaned[\"previous_fertility_treatments\"].unique()"
   ]
  },
  {
   "cell_type": "code",
   "execution_count": 35,
   "id": "c5e8d372-1b36-45dd-97c1-48e6a1be5c4e",
   "metadata": {},
   "outputs": [
    {
     "data": {
      "text/plain": [
       "array([2, 1, 0], dtype=int64)"
      ]
     },
     "execution_count": 35,
     "metadata": {},
     "output_type": "execute_result"
    }
   ],
   "source": [
    "df_cleaned[\"history_of_miscarriages\"].unique()"
   ]
  },
  {
   "cell_type": "code",
   "execution_count": 36,
   "id": "03ab1199-6b41-4398-a3cc-c6a1787af181",
   "metadata": {},
   "outputs": [
    {
     "data": {
      "text/plain": [
       "array([ 3,  5,  6,  7,  2,  8, 10,  4,  1,  9], dtype=int64)"
      ]
     },
     "execution_count": 36,
     "metadata": {},
     "output_type": "execute_result"
    }
   ],
   "source": [
    "df_cleaned[\"stress_level\"].unique()"
   ]
  },
  {
   "cell_type": "code",
   "execution_count": 37,
   "id": "4d190d1e-de3c-4efd-b616-7e3dd4fe29bf",
   "metadata": {},
   "outputs": [
    {
     "data": {
      "text/plain": [
       "array([0, 1], dtype=int64)"
      ]
     },
     "execution_count": 37,
     "metadata": {},
     "output_type": "execute_result"
    }
   ],
   "source": [
    "df_cleaned[\"chronic_conditions\"].unique()"
   ]
  },
  {
   "cell_type": "code",
   "execution_count": 38,
   "id": "252e7dbd-804b-4ce2-b168-be37f368859a",
   "metadata": {},
   "outputs": [
    {
     "data": {
      "text/plain": [
       "array([0, 1], dtype=int64)"
      ]
     },
     "execution_count": 38,
     "metadata": {},
     "output_type": "execute_result"
    }
   ],
   "source": [
    "df_cleaned[\"exercise_habits\"].unique()"
   ]
  },
  {
   "cell_type": "code",
   "execution_count": 39,
   "id": "c1492fc7-6ece-41a1-9ea8-0b56db3c64d7",
   "metadata": {},
   "outputs": [],
   "source": [
    "df_cleaned[\"menstrual_cycle_irregularity\"]=pd.get_dummies(new_data['menstrual_cycle_irregularity'], dtype=int,drop_first=True)"
   ]
  },
  {
   "cell_type": "code",
   "execution_count": 40,
   "id": "37bdbe71-f735-4143-b33a-4fea02b34f8a",
   "metadata": {},
   "outputs": [],
   "source": [
    "df_cleaned[\"chronic_conditions\"]=pd.get_dummies(new_data[\"chronic_conditions\"], dtype=int,drop_first=True)\n",
    "df_cleaned[\"exercise_habits\"]=pd.get_dummies(new_data[\"exercise_habits\"], dtype=int,drop_first=True)"
   ]
  },
  {
   "cell_type": "code",
   "execution_count": 41,
   "id": "986701e0-1755-4ab8-a4c2-a03434e0f54f",
   "metadata": {},
   "outputs": [],
   "source": [
    "df_cleaned[\"chronic_conditions\"]=pd.get_dummies(new_data[\"chronic_conditions\"], dtype=int,drop_first=True)\n",
    "df_cleaned[\"previous_fertility_treatments\"]=pd.get_dummies(new_data[\"previous_fertility_treatments\"], dtype=int,drop_first=True)"
   ]
  },
  {
   "cell_type": "code",
   "execution_count": 42,
   "id": "acabef0b-0a65-4edc-ae12-a2abff8ae042",
   "metadata": {},
   "outputs": [],
   "source": [
    "df_cleaned[\"fertility_rate\"] = pd.factorize(df_cleaned[\"fertility_rate\"])[0]"
   ]
  },
  {
   "cell_type": "code",
   "execution_count": 43,
   "id": "aad1bba1-c2ac-4534-a330-34340470241f",
   "metadata": {},
   "outputs": [
    {
     "data": {
      "text/html": [
       "<div>\n",
       "<style scoped>\n",
       "    .dataframe tbody tr th:only-of-type {\n",
       "        vertical-align: middle;\n",
       "    }\n",
       "\n",
       "    .dataframe tbody tr th {\n",
       "        vertical-align: top;\n",
       "    }\n",
       "\n",
       "    .dataframe thead th {\n",
       "        text-align: right;\n",
       "    }\n",
       "</style>\n",
       "<table border=\"1\" class=\"dataframe\">\n",
       "  <thead>\n",
       "    <tr style=\"text-align: right;\">\n",
       "      <th></th>\n",
       "      <th>age</th>\n",
       "      <th>BMI</th>\n",
       "      <th>menstrual_cycle_irregularity</th>\n",
       "      <th>chronic_conditions</th>\n",
       "      <th>stress_level</th>\n",
       "      <th>fertility_rate</th>\n",
       "      <th>number_of_previous_pregnancies</th>\n",
       "      <th>previous_fertility_treatments</th>\n",
       "      <th>exercise_habits</th>\n",
       "      <th>history_of_miscarriages</th>\n",
       "    </tr>\n",
       "  </thead>\n",
       "  <tbody>\n",
       "    <tr>\n",
       "      <th>0</th>\n",
       "      <td>43</td>\n",
       "      <td>33.171975</td>\n",
       "      <td>1</td>\n",
       "      <td>0</td>\n",
       "      <td>3</td>\n",
       "      <td>0</td>\n",
       "      <td>3</td>\n",
       "      <td>1</td>\n",
       "      <td>0</td>\n",
       "      <td>2</td>\n",
       "    </tr>\n",
       "    <tr>\n",
       "      <th>1</th>\n",
       "      <td>36</td>\n",
       "      <td>19.336654</td>\n",
       "      <td>0</td>\n",
       "      <td>1</td>\n",
       "      <td>3</td>\n",
       "      <td>1</td>\n",
       "      <td>4</td>\n",
       "      <td>1</td>\n",
       "      <td>0</td>\n",
       "      <td>1</td>\n",
       "    </tr>\n",
       "    <tr>\n",
       "      <th>2</th>\n",
       "      <td>40</td>\n",
       "      <td>23.625551</td>\n",
       "      <td>1</td>\n",
       "      <td>1</td>\n",
       "      <td>5</td>\n",
       "      <td>2</td>\n",
       "      <td>1</td>\n",
       "      <td>0</td>\n",
       "      <td>0</td>\n",
       "      <td>1</td>\n",
       "    </tr>\n",
       "    <tr>\n",
       "      <th>3</th>\n",
       "      <td>28</td>\n",
       "      <td>22.220887</td>\n",
       "      <td>0</td>\n",
       "      <td>1</td>\n",
       "      <td>6</td>\n",
       "      <td>3</td>\n",
       "      <td>4</td>\n",
       "      <td>0</td>\n",
       "      <td>0</td>\n",
       "      <td>2</td>\n",
       "    </tr>\n",
       "    <tr>\n",
       "      <th>4</th>\n",
       "      <td>28</td>\n",
       "      <td>34.796237</td>\n",
       "      <td>1</td>\n",
       "      <td>0</td>\n",
       "      <td>6</td>\n",
       "      <td>1</td>\n",
       "      <td>3</td>\n",
       "      <td>0</td>\n",
       "      <td>1</td>\n",
       "      <td>2</td>\n",
       "    </tr>\n",
       "  </tbody>\n",
       "</table>\n",
       "</div>"
      ],
      "text/plain": [
       "   age        BMI  menstrual_cycle_irregularity  chronic_conditions  \\\n",
       "0   43  33.171975                             1                   0   \n",
       "1   36  19.336654                             0                   1   \n",
       "2   40  23.625551                             1                   1   \n",
       "3   28  22.220887                             0                   1   \n",
       "4   28  34.796237                             1                   0   \n",
       "\n",
       "   stress_level  fertility_rate  number_of_previous_pregnancies  \\\n",
       "0             3               0                               3   \n",
       "1             3               1                               4   \n",
       "2             5               2                               1   \n",
       "3             6               3                               4   \n",
       "4             6               1                               3   \n",
       "\n",
       "   previous_fertility_treatments  exercise_habits  history_of_miscarriages  \n",
       "0                              1                0                        2  \n",
       "1                              1                0                        1  \n",
       "2                              0                0                        1  \n",
       "3                              0                0                        2  \n",
       "4                              0                1                        2  "
      ]
     },
     "execution_count": 43,
     "metadata": {},
     "output_type": "execute_result"
    }
   ],
   "source": [
    "df_cleaned.head()"
   ]
  },
  {
   "cell_type": "code",
   "execution_count": 44,
   "id": "8c799d58-6c83-47ae-b200-d6b28ac4ba32",
   "metadata": {},
   "outputs": [],
   "source": [
    "df_cleaned.to_csv(\"fertility_rate\", index=False)"
   ]
  },
  {
   "cell_type": "code",
   "execution_count": 45,
   "id": "13f5e476-92d6-4d35-abbe-eaf98e8302a0",
   "metadata": {},
   "outputs": [],
   "source": [
    "x=df_cleaned.drop(columns=\"fertility_rate\")"
   ]
  },
  {
   "cell_type": "code",
   "execution_count": 46,
   "id": "ea624b9d-6bed-43d7-8a20-e37dcb07bdb9",
   "metadata": {},
   "outputs": [],
   "source": [
    "y=df_cleaned[\"fertility_rate\"]"
   ]
  },
  {
   "cell_type": "code",
   "execution_count": 47,
   "id": "42e205e8-dacc-4bee-9030-eb1862862f7c",
   "metadata": {},
   "outputs": [],
   "source": [
    "model=linear_model.LinearRegression()"
   ]
  },
  {
   "cell_type": "code",
   "execution_count": 48,
   "id": "efd3fcef-de55-4881-a649-ee899889fcb4",
   "metadata": {},
   "outputs": [],
   "source": [
    "from sklearn.model_selection import train_test_split\n",
    "x_train,x_test,y_train,y_test=train_test_split(x,y,test_size=0.2)"
   ]
  },
  {
   "cell_type": "code",
   "execution_count": 49,
   "id": "fd259fa4-117d-4d3b-ab5a-f5224d6f91aa",
   "metadata": {},
   "outputs": [
    {
     "data": {
      "text/html": [
       "<style>#sk-container-id-1 {color: black;background-color: white;}#sk-container-id-1 pre{padding: 0;}#sk-container-id-1 div.sk-toggleable {background-color: white;}#sk-container-id-1 label.sk-toggleable__label {cursor: pointer;display: block;width: 100%;margin-bottom: 0;padding: 0.3em;box-sizing: border-box;text-align: center;}#sk-container-id-1 label.sk-toggleable__label-arrow:before {content: \"▸\";float: left;margin-right: 0.25em;color: #696969;}#sk-container-id-1 label.sk-toggleable__label-arrow:hover:before {color: black;}#sk-container-id-1 div.sk-estimator:hover label.sk-toggleable__label-arrow:before {color: black;}#sk-container-id-1 div.sk-toggleable__content {max-height: 0;max-width: 0;overflow: hidden;text-align: left;background-color: #f0f8ff;}#sk-container-id-1 div.sk-toggleable__content pre {margin: 0.2em;color: black;border-radius: 0.25em;background-color: #f0f8ff;}#sk-container-id-1 input.sk-toggleable__control:checked~div.sk-toggleable__content {max-height: 200px;max-width: 100%;overflow: auto;}#sk-container-id-1 input.sk-toggleable__control:checked~label.sk-toggleable__label-arrow:before {content: \"▾\";}#sk-container-id-1 div.sk-estimator input.sk-toggleable__control:checked~label.sk-toggleable__label {background-color: #d4ebff;}#sk-container-id-1 div.sk-label input.sk-toggleable__control:checked~label.sk-toggleable__label {background-color: #d4ebff;}#sk-container-id-1 input.sk-hidden--visually {border: 0;clip: rect(1px 1px 1px 1px);clip: rect(1px, 1px, 1px, 1px);height: 1px;margin: -1px;overflow: hidden;padding: 0;position: absolute;width: 1px;}#sk-container-id-1 div.sk-estimator {font-family: monospace;background-color: #f0f8ff;border: 1px dotted black;border-radius: 0.25em;box-sizing: border-box;margin-bottom: 0.5em;}#sk-container-id-1 div.sk-estimator:hover {background-color: #d4ebff;}#sk-container-id-1 div.sk-parallel-item::after {content: \"\";width: 100%;border-bottom: 1px solid gray;flex-grow: 1;}#sk-container-id-1 div.sk-label:hover label.sk-toggleable__label {background-color: #d4ebff;}#sk-container-id-1 div.sk-serial::before {content: \"\";position: absolute;border-left: 1px solid gray;box-sizing: border-box;top: 0;bottom: 0;left: 50%;z-index: 0;}#sk-container-id-1 div.sk-serial {display: flex;flex-direction: column;align-items: center;background-color: white;padding-right: 0.2em;padding-left: 0.2em;position: relative;}#sk-container-id-1 div.sk-item {position: relative;z-index: 1;}#sk-container-id-1 div.sk-parallel {display: flex;align-items: stretch;justify-content: center;background-color: white;position: relative;}#sk-container-id-1 div.sk-item::before, #sk-container-id-1 div.sk-parallel-item::before {content: \"\";position: absolute;border-left: 1px solid gray;box-sizing: border-box;top: 0;bottom: 0;left: 50%;z-index: -1;}#sk-container-id-1 div.sk-parallel-item {display: flex;flex-direction: column;z-index: 1;position: relative;background-color: white;}#sk-container-id-1 div.sk-parallel-item:first-child::after {align-self: flex-end;width: 50%;}#sk-container-id-1 div.sk-parallel-item:last-child::after {align-self: flex-start;width: 50%;}#sk-container-id-1 div.sk-parallel-item:only-child::after {width: 0;}#sk-container-id-1 div.sk-dashed-wrapped {border: 1px dashed gray;margin: 0 0.4em 0.5em 0.4em;box-sizing: border-box;padding-bottom: 0.4em;background-color: white;}#sk-container-id-1 div.sk-label label {font-family: monospace;font-weight: bold;display: inline-block;line-height: 1.2em;}#sk-container-id-1 div.sk-label-container {text-align: center;}#sk-container-id-1 div.sk-container {/* jupyter's `normalize.less` sets `[hidden] { display: none; }` but bootstrap.min.css set `[hidden] { display: none !important; }` so we also need the `!important` here to be able to override the default hidden behavior on the sphinx rendered scikit-learn.org. See: https://github.com/scikit-learn/scikit-learn/issues/21755 */display: inline-block !important;position: relative;}#sk-container-id-1 div.sk-text-repr-fallback {display: none;}</style><div id=\"sk-container-id-1\" class=\"sk-top-container\"><div class=\"sk-text-repr-fallback\"><pre>LinearRegression()</pre><b>In a Jupyter environment, please rerun this cell to show the HTML representation or trust the notebook. <br />On GitHub, the HTML representation is unable to render, please try loading this page with nbviewer.org.</b></div><div class=\"sk-container\" hidden><div class=\"sk-item\"><div class=\"sk-estimator sk-toggleable\"><input class=\"sk-toggleable__control sk-hidden--visually\" id=\"sk-estimator-id-1\" type=\"checkbox\" checked><label for=\"sk-estimator-id-1\" class=\"sk-toggleable__label sk-toggleable__label-arrow\">LinearRegression</label><div class=\"sk-toggleable__content\"><pre>LinearRegression()</pre></div></div></div></div></div>"
      ],
      "text/plain": [
       "LinearRegression()"
      ]
     },
     "execution_count": 49,
     "metadata": {},
     "output_type": "execute_result"
    }
   ],
   "source": [
    "model.fit(x_train,y_train)"
   ]
  },
  {
   "cell_type": "code",
   "execution_count": 50,
   "id": "7546c1b1-6b5c-45e2-b568-19269d90e863",
   "metadata": {},
   "outputs": [],
   "source": [
    "y_predict=model.predict(x_test)"
   ]
  },
  {
   "cell_type": "code",
   "execution_count": 51,
   "id": "7f0c6959-16f9-4a3c-ae3b-66ddd43bc439",
   "metadata": {},
   "outputs": [
    {
     "data": {
      "text/plain": [
       "(583,)"
      ]
     },
     "execution_count": 51,
     "metadata": {},
     "output_type": "execute_result"
    }
   ],
   "source": [
    "y_predict.shape"
   ]
  },
  {
   "cell_type": "code",
   "execution_count": null,
   "id": "00b0baa3-4620-4919-bd68-1ebaf942f6f9",
   "metadata": {},
   "outputs": [],
   "source": []
  },
  {
   "cell_type": "code",
   "execution_count": 52,
   "id": "04feb296-521c-4c03-925d-62c7de0bba40",
   "metadata": {},
   "outputs": [
    {
     "name": "stdout",
     "output_type": "stream",
     "text": [
      "R_squared\n",
      "Adjusted R 0.0439781480489666\n",
      "0.05589862001843082\n",
      "Mean absolute error\n",
      "2.882911099324644\n"
     ]
    }
   ],
   "source": [
    "from sklearn.metrics import r2_score, mean_absolute_error\n",
    "\n",
    "#Evaluating the performance of the model\n",
    "print(\"R_squared\")\n",
    "r_squa=r2_score(y_test,y_predict)\n",
    "adjusted_r2 = 1 - (1 - r_squa) * (402 - 1) / (402 - 5 - 1)\n",
    "print(\"Adjusted R\", adjusted_r2)\n",
    "print(r2_score(y_test,y_predict))\n",
    "print(\"Mean absolute error\")\n",
    "print(mean_absolute_error(y_test,y_predict))\n"
   ]
  },
  {
   "cell_type": "code",
   "execution_count": 53,
   "id": "b36ef627-1075-4700-a5a0-b015cfcae2fb",
   "metadata": {},
   "outputs": [
    {
     "data": {
      "text/plain": [
       "['linear1group3_regression_model.joblib']"
      ]
     },
     "execution_count": 53,
     "metadata": {},
     "output_type": "execute_result"
    }
   ],
   "source": [
    "import joblib\n",
    "joblib_file = \"linear1group3_regression_model.joblib\"\n",
    "joblib.dump(model, joblib_file)\n"
   ]
  },
  {
   "cell_type": "code",
   "execution_count": 54,
   "id": "10a760cd-8487-4527-8d10-4dcc7bd2b45d",
   "metadata": {},
   "outputs": [],
   "source": [
    "model_lasso=linear_model.Lasso(alpha=0.1)"
   ]
  },
  {
   "cell_type": "code",
   "execution_count": 55,
   "id": "a030ae52-766e-4773-9937-104fe5b446b6",
   "metadata": {},
   "outputs": [
    {
     "data": {
      "text/html": [
       "<style>#sk-container-id-2 {color: black;background-color: white;}#sk-container-id-2 pre{padding: 0;}#sk-container-id-2 div.sk-toggleable {background-color: white;}#sk-container-id-2 label.sk-toggleable__label {cursor: pointer;display: block;width: 100%;margin-bottom: 0;padding: 0.3em;box-sizing: border-box;text-align: center;}#sk-container-id-2 label.sk-toggleable__label-arrow:before {content: \"▸\";float: left;margin-right: 0.25em;color: #696969;}#sk-container-id-2 label.sk-toggleable__label-arrow:hover:before {color: black;}#sk-container-id-2 div.sk-estimator:hover label.sk-toggleable__label-arrow:before {color: black;}#sk-container-id-2 div.sk-toggleable__content {max-height: 0;max-width: 0;overflow: hidden;text-align: left;background-color: #f0f8ff;}#sk-container-id-2 div.sk-toggleable__content pre {margin: 0.2em;color: black;border-radius: 0.25em;background-color: #f0f8ff;}#sk-container-id-2 input.sk-toggleable__control:checked~div.sk-toggleable__content {max-height: 200px;max-width: 100%;overflow: auto;}#sk-container-id-2 input.sk-toggleable__control:checked~label.sk-toggleable__label-arrow:before {content: \"▾\";}#sk-container-id-2 div.sk-estimator input.sk-toggleable__control:checked~label.sk-toggleable__label {background-color: #d4ebff;}#sk-container-id-2 div.sk-label input.sk-toggleable__control:checked~label.sk-toggleable__label {background-color: #d4ebff;}#sk-container-id-2 input.sk-hidden--visually {border: 0;clip: rect(1px 1px 1px 1px);clip: rect(1px, 1px, 1px, 1px);height: 1px;margin: -1px;overflow: hidden;padding: 0;position: absolute;width: 1px;}#sk-container-id-2 div.sk-estimator {font-family: monospace;background-color: #f0f8ff;border: 1px dotted black;border-radius: 0.25em;box-sizing: border-box;margin-bottom: 0.5em;}#sk-container-id-2 div.sk-estimator:hover {background-color: #d4ebff;}#sk-container-id-2 div.sk-parallel-item::after {content: \"\";width: 100%;border-bottom: 1px solid gray;flex-grow: 1;}#sk-container-id-2 div.sk-label:hover label.sk-toggleable__label {background-color: #d4ebff;}#sk-container-id-2 div.sk-serial::before {content: \"\";position: absolute;border-left: 1px solid gray;box-sizing: border-box;top: 0;bottom: 0;left: 50%;z-index: 0;}#sk-container-id-2 div.sk-serial {display: flex;flex-direction: column;align-items: center;background-color: white;padding-right: 0.2em;padding-left: 0.2em;position: relative;}#sk-container-id-2 div.sk-item {position: relative;z-index: 1;}#sk-container-id-2 div.sk-parallel {display: flex;align-items: stretch;justify-content: center;background-color: white;position: relative;}#sk-container-id-2 div.sk-item::before, #sk-container-id-2 div.sk-parallel-item::before {content: \"\";position: absolute;border-left: 1px solid gray;box-sizing: border-box;top: 0;bottom: 0;left: 50%;z-index: -1;}#sk-container-id-2 div.sk-parallel-item {display: flex;flex-direction: column;z-index: 1;position: relative;background-color: white;}#sk-container-id-2 div.sk-parallel-item:first-child::after {align-self: flex-end;width: 50%;}#sk-container-id-2 div.sk-parallel-item:last-child::after {align-self: flex-start;width: 50%;}#sk-container-id-2 div.sk-parallel-item:only-child::after {width: 0;}#sk-container-id-2 div.sk-dashed-wrapped {border: 1px dashed gray;margin: 0 0.4em 0.5em 0.4em;box-sizing: border-box;padding-bottom: 0.4em;background-color: white;}#sk-container-id-2 div.sk-label label {font-family: monospace;font-weight: bold;display: inline-block;line-height: 1.2em;}#sk-container-id-2 div.sk-label-container {text-align: center;}#sk-container-id-2 div.sk-container {/* jupyter's `normalize.less` sets `[hidden] { display: none; }` but bootstrap.min.css set `[hidden] { display: none !important; }` so we also need the `!important` here to be able to override the default hidden behavior on the sphinx rendered scikit-learn.org. See: https://github.com/scikit-learn/scikit-learn/issues/21755 */display: inline-block !important;position: relative;}#sk-container-id-2 div.sk-text-repr-fallback {display: none;}</style><div id=\"sk-container-id-2\" class=\"sk-top-container\"><div class=\"sk-text-repr-fallback\"><pre>Lasso(alpha=0.1)</pre><b>In a Jupyter environment, please rerun this cell to show the HTML representation or trust the notebook. <br />On GitHub, the HTML representation is unable to render, please try loading this page with nbviewer.org.</b></div><div class=\"sk-container\" hidden><div class=\"sk-item\"><div class=\"sk-estimator sk-toggleable\"><input class=\"sk-toggleable__control sk-hidden--visually\" id=\"sk-estimator-id-2\" type=\"checkbox\" checked><label for=\"sk-estimator-id-2\" class=\"sk-toggleable__label sk-toggleable__label-arrow\">Lasso</label><div class=\"sk-toggleable__content\"><pre>Lasso(alpha=0.1)</pre></div></div></div></div></div>"
      ],
      "text/plain": [
       "Lasso(alpha=0.1)"
      ]
     },
     "execution_count": 55,
     "metadata": {},
     "output_type": "execute_result"
    }
   ],
   "source": [
    "model_lasso.fit(x_train,y_train)"
   ]
  },
  {
   "cell_type": "code",
   "execution_count": 56,
   "id": "24dff033-2695-48a7-899c-1976343b3643",
   "metadata": {},
   "outputs": [],
   "source": [
    "y_predict_lasso=model_lasso.predict(x_test)"
   ]
  },
  {
   "cell_type": "code",
   "execution_count": 57,
   "id": "371df5f0-7ace-4877-bba8-069633be5c56",
   "metadata": {},
   "outputs": [
    {
     "name": "stdout",
     "output_type": "stream",
     "text": [
      "R_squared\n",
      "Adjusted R 0.031913144037034824\n",
      "0.043984052465500745\n",
      "Mean absolute error\n",
      "2.9075619190241206\n"
     ]
    }
   ],
   "source": [
    "from sklearn.metrics import r2_score, mean_absolute_error\n",
    "\n",
    "#Evaluating the performance of the model\n",
    "print(\"R_squared\")\n",
    "r_squa=r2_score(y_test,y_predict_lasso)\n",
    "adjusted_r2 = 1 - (1 - r_squa) * (402 - 1) / (402 - 5 - 1)\n",
    "print(\"Adjusted R\", adjusted_r2)\n",
    "print(r2_score(y_test,y_predict_lasso))\n",
    "print(\"Mean absolute error\")\n",
    "print(mean_absolute_error(y_test,y_predict_lasso))"
   ]
  },
  {
   "cell_type": "code",
   "execution_count": 58,
   "id": "90826a1b-dfc2-495f-8dc6-b18478600260",
   "metadata": {
    "scrolled": true
   },
   "outputs": [
    {
     "ename": "SyntaxError",
     "evalue": "unterminated string literal (detected at line 13) (3189872431.py, line 13)",
     "output_type": "error",
     "traceback": [
      "\u001b[1;36m  Cell \u001b[1;32mIn[58], line 13\u001b[1;36m\u001b[0m\n\u001b[1;33m    Depending on the context and the scale of the data, this value can give you a sense of how close the model's predictions are to the actual values.\u001b[0m\n\u001b[1;37m                                                                                                              ^\u001b[0m\n\u001b[1;31mSyntaxError\u001b[0m\u001b[1;31m:\u001b[0m unterminated string literal (detected at line 13)\n"
     ]
    }
   ],
   "source": [
    "Model evaluation results interpretation\n",
    " Adjusted R-Squared:\n",
    "Value: 0.0439\n",
    "The adjusted R-squared value of history_of_miscarriage is very low, suggesting that the model explains only a small fraction of the variance in the\n",
    "dependent variable. \n",
    "Specifically, only about 3.6% of the variance is explained by the model, after accounting for the number of predictors used. \n",
    "This indicates that the model may not be capturing the underlying patterns in the data effectively,\n",
    "or that the predictors included in the model do not have a strong relationship with the response variable.\n",
    "Mean Absolute Error (MAE):\n",
    "Value: 2.907\n",
    " The MAE represents the average absolute difference between the predicted and actual values.\n",
    "An MAE of 2.796 means that, on average, the fertility_rate are off by about 2.796 units.\n",
    "Depending on the context and the scale of the data, this value can give you a sense of how close the model's predictions are to the actual values.\n",
    "For example, if your dependent variable is on a large scale , an MAE of 2.796 might be relatively small. However, \n",
    "if your dependent variable is on a smaller scale, this MAE could be relatively high"
   ]
  },
  {
   "cell_type": "code",
   "execution_count": null,
   "id": "d2da92eb-75c7-4a70-b355-e7ce3ff1eeb4",
   "metadata": {},
   "outputs": [],
   "source": []
  }
 ],
 "metadata": {
  "kernelspec": {
   "display_name": "Python 3 (ipykernel)",
   "language": "python",
   "name": "python3"
  },
  "language_info": {
   "codemirror_mode": {
    "name": "ipython",
    "version": 3
   },
   "file_extension": ".py",
   "mimetype": "text/x-python",
   "name": "python",
   "nbconvert_exporter": "python",
   "pygments_lexer": "ipython3",
   "version": "3.11.7"
  }
 },
 "nbformat": 4,
 "nbformat_minor": 5
}
